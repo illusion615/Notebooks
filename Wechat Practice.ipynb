{
 "cells": [
  {
   "cell_type": "code",
   "execution_count": 113,
   "metadata": {
    "collapsed": false
   },
   "outputs": [],
   "source": [
    "import itchat\n",
    "import pandas as pd\n",
    "from pandas import DataFrame\n",
    "\n",
    "import numpy as np\n",
    "import matplotlib as mpl\n",
    "import matplotlib.pyplot as plt\n",
    "import seaborn as sns\n",
    "%matplotlib inline"
   ]
  },
  {
   "cell_type": "code",
   "execution_count": 2,
   "metadata": {
    "collapsed": false
   },
   "outputs": [
    {
     "name": "stderr",
     "output_type": "stream",
     "text": [
      "Getting uuid of QR code.\n",
      "Downloading QR code.\n",
      "Please scan the QR code to log in.\n",
      "Please press confirm on your phone.\n",
      "Loading the contact, this may take a little while.\n",
      "Login successfully as Wells\n"
     ]
    }
   ],
   "source": [
    "itchat.login()"
   ]
  },
  {
   "cell_type": "code",
   "execution_count": 4,
   "metadata": {
    "collapsed": false
   },
   "outputs": [],
   "source": [
    "friends = itchat.get_friends(update=True)[0:]"
   ]
  },
  {
   "cell_type": "code",
   "execution_count": 114,
   "metadata": {
    "collapsed": false
   },
   "outputs": [
    {
     "data": {
      "text/plain": [
       "{'Alias': '',\n",
       " 'AppAccountFlag': 0,\n",
       " 'AttrStatus': 98661,\n",
       " 'ChatRoomId': 0,\n",
       " 'City': '浦东新区',\n",
       " 'ContactFlag': 10243,\n",
       " 'DisplayName': '',\n",
       " 'EncryChatRoomId': '',\n",
       " 'HeadImgUrl': '/cgi-bin/mmwebwx-bin/webwxgeticon?seq=685830381&username=@fa400e621119e2c454c2123b133af5381aa9af20ea1e2e3ec42008188e3ebf67&skey=@crypt_d6c84ade_f95351473001ba63120d4251fe234500',\n",
       " 'HideInputBarFlag': 0,\n",
       " 'IsOwner': 0,\n",
       " 'KeyWord': '',\n",
       " 'MemberCount': 0,\n",
       " 'MemberList': [],\n",
       " 'NickName': '小图乖乖🐰',\n",
       " 'OwnerUin': 0,\n",
       " 'PYInitial': 'XTGGSPANCLASSEMOJIEMOJI1F430SPAN',\n",
       " 'PYQuanPin': 'xiaotuguaiguaispanclassemojiemoji1f430span',\n",
       " 'Province': '上海',\n",
       " 'RemarkName': '妞',\n",
       " 'RemarkPYInitial': 'N',\n",
       " 'RemarkPYQuanPin': 'niu',\n",
       " 'Sex': 2,\n",
       " 'Signature': '人生诸事无非就是关你屁事和关我屁事',\n",
       " 'SnsFlag': 49,\n",
       " 'StarFriend': 0,\n",
       " 'Statues': 0,\n",
       " 'Uin': 0,\n",
       " 'UniFriend': 0,\n",
       " 'UserName': '@fa400e621119e2c454c2123b133af5381aa9af20ea1e2e3ec42008188e3ebf67',\n",
       " 'VerifyFlag': 0}"
      ]
     },
     "execution_count": 114,
     "metadata": {},
     "output_type": "execute_result"
    }
   ],
   "source": [
    "friends[1]"
   ]
  },
  {
   "cell_type": "code",
   "execution_count": 11,
   "metadata": {
    "collapsed": false
   },
   "outputs": [],
   "source": [
    "dfFriends=DataFrame.from_dict(friends)"
   ]
  },
  {
   "cell_type": "code",
   "execution_count": 52,
   "metadata": {
    "collapsed": false
   },
   "outputs": [
    {
     "name": "stdout",
     "output_type": "stream",
     "text": [
      "Total:344, Male:62.2093023256, Female:29.9418604651, Others:7.8488372093\n"
     ]
    }
   ],
   "source": [
    "total=dfFriends['Sex'].count()\n",
    "count_male=dfFriends['Sex'].value_counts(1)[1]*100\n",
    "count_female=dfFriends['Sex'].value_counts(1)[2]*100\n",
    "count_unknown=dfFriends['Sex'].value_counts(1)[0]*100\n",
    "print('Total:%s, Male:%s, Female:%s, Others:%s' %(total,\n",
    "                                                  count_male,\n",
    "                                                  count_female,\n",
    "                                                  count_unknown))"
   ]
  },
  {
   "cell_type": "code",
   "execution_count": 94,
   "metadata": {
    "collapsed": false
   },
   "outputs": [],
   "source": [
    "lst=dfFriends['Sex'].value_counts()"
   ]
  },
  {
   "cell_type": "code",
   "execution_count": 96,
   "metadata": {
    "collapsed": false
   },
   "outputs": [
    {
     "data": {
      "text/plain": [
       "1    214\n",
       "2    103\n",
       "0     27\n",
       "Name: Sex, dtype: int64"
      ]
     },
     "execution_count": 96,
     "metadata": {},
     "output_type": "execute_result"
    }
   ],
   "source": [
    "lst"
   ]
  },
  {
   "cell_type": "code",
   "execution_count": 102,
   "metadata": {
    "collapsed": false
   },
   "outputs": [
    {
     "data": {
      "image/png": "[encoded data removed]",
      "text/plain": [
       "<matplotlib.figure.Figure at 0x262559ed470>"
      ]
     },
     "metadata": {},
     "output_type": "display_data"
    }
   ],
   "source": [
    "plt.axis('equal')\n",
    "plt.pie(lst, labels=['Male','Female','Others'], autopct='%1.1f%%')\n",
    "plt.title('My Wechat Friends Sex')\n",
    "plt.show()"
   ]
  },
  {
   "cell_type": "code",
   "execution_count": 135,
   "metadata": {
    "collapsed": false
   },
   "outputs": [],
   "source": [
    "g=dfFriends.groupby('Province').size()\n",
    "#value_counts()\n",
    "\n",
    "#temp = var.unstack()\n",
    "#temp\n",
    "#x_list = temp['UserName']\n",
    "#print(x_list)"
   ]
  },
  {
   "cell_type": "code",
   "execution_count": 137,
   "metadata": {
    "collapsed": false
   },
   "outputs": [
    {
     "data": {
      "text/plain": [
       "Province\n",
       "                        56\n",
       "Auckland                 1\n",
       "California               2\n",
       "Central and Western      1\n",
       "Hague                    1\n",
       "New Plymouth             1\n",
       "New York                 1\n",
       "Ontario                  1\n",
       "Queensland               1\n",
       "Victoria                 1\n",
       "Yau Tsim Mong            1\n",
       "上海                     155\n",
       "北京                      49\n",
       "吉林                       7\n",
       "四川                      23\n",
       "天津                       1\n",
       "宁夏                       1\n",
       "安徽                       2\n",
       "山东                       2\n",
       "广东                      14\n",
       "江苏                      10\n",
       "浙江                       4\n",
       "湖南                       1\n",
       "福建                       1\n",
       "西藏                       1\n",
       "辽宁                       3\n",
       "重庆                       2\n",
       "香港                       1\n",
       "dtype: int64"
      ]
     },
     "execution_count": 137,
     "metadata": {},
     "output_type": "execute_result"
    }
   ],
   "source": [
    "g"
   ]
  }
 ],
 "metadata": {
  "anaconda-cloud": {},
  "kernelspec": {
   "display_name": "Python [Root]",
   "language": "python",
   "name": "Python [Root]"
  },
  "language_info": {
   "codemirror_mode": {
    "name": "ipython",
    "version": 3
   },
   "file_extension": ".py",
   "mimetype": "text/x-python",
   "name": "python",
   "nbconvert_exporter": "python",
   "pygments_lexer": "ipython3",
   "version": "3.5.2"
  }
 },
 "nbformat": 4,
 "nbformat_minor": 0
}
