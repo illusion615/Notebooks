{
 "cells": [
  {
   "cell_type": "code",
   "execution_count": 1,
   "metadata": {
    "collapsed": false
   },
   "outputs": [
    {
     "name": "stdout",
     "output_type": "stream",
     "text": [
      "Could not get access token\n"
     ]
    }
   ],
   "source": [
    "import requests  \n",
    "import json\n",
    " \n",
    "#set these values to retrieve the oauth token\n",
    "crmorg = 'https://fsi.crm5.dynamics.com' #base url for crm org  \n",
    "clientid = 'af358482-d328-40cc-ad5a-10ae10e607d9' #application client id  \n",
    "username = 'wellszha@wellszhademo01.onmicrosoft.com' #username  \n",
    "userpassword = 'pass@word1' #password  \n",
    "tokenendpoint = 'https://login.microsoftonline.com/00000000-0000-0000-0000-000000000000/oauth2/token' #oauth token endpoint\n",
    " \n",
    "#set these values to query your crm data\n",
    "crmwebapi = 'https://fsi.api.crm5.dynamics.com/api/data/v8.2/' #full path to web api endpoint  \n",
    "crmwebapiquery = '/contacts?$select=fullname,contactid' #web api query (include leading /)\n",
    " \n",
    "#build the authorization token request\n",
    "tokenpost = {  \n",
    "    'client_id':clientid,\n",
    "    'resource':crmorg,\n",
    "    'username':username,\n",
    "    'password':userpassword,\n",
    "    'grant_type':'password'\n",
    "}\n",
    " \n",
    "#make the token request\n",
    "tokenres = requests.post(tokenendpoint, data=tokenpost)\n",
    " \n",
    "#set accesstoken variable to empty string\n",
    "accesstoken = ''\n",
    " \n",
    "#extract the access token\n",
    "try:  \n",
    "    accesstoken = tokenres.json()['access_token']\n",
    "except(KeyError):  \n",
    "    #handle any missing key errors\n",
    "    print('Could not get access token')\n",
    " \n",
    "#if we have an accesstoken\n",
    "if(accesstoken!=''):  \n",
    "    #prepare the crm request headers\n",
    "    crmrequestheaders = {\n",
    "        'Authorization': 'Bearer ' + accesstoken,\n",
    "        'OData-MaxVersion': '4.0',\n",
    "        'OData-Version': '4.0',\n",
    "        'Accept': 'application/json',\n",
    "        'Content-Type': 'application/json; charset=utf-8',\n",
    "        'Prefer': 'odata.maxpagesize=500',\n",
    "        'Prefer': 'odata.include-annotations=OData.Community.Display.V1.FormattedValue'\n",
    "    }\n",
    " \n",
    "    #make the crm request\n",
    "    crmres = requests.get(crmwebapi+crmwebapiquery, headers=crmrequestheaders)\n",
    " \n",
    "    try:\n",
    "        #get the response json\n",
    "        crmresults = crmres.json()\n",
    " \n",
    "        #loop through it\n",
    "        for x in crmresults['value']:\n",
    "            print (x['fullname'] + ' - ' + x['contactid'])\n",
    "    except KeyError:\n",
    "        #handle any missing key errors\n",
    "        print('Could not parse CRM results')"
   ]
  }
 ],
 "metadata": {
  "anaconda-cloud": {},
  "kernelspec": {
   "display_name": "Python [Root]",
   "language": "python",
   "name": "Python [Root]"
  },
  "language_info": {
   "codemirror_mode": {
    "name": "ipython",
    "version": 3
   },
   "file_extension": ".py",
   "mimetype": "text/x-python",
   "name": "python",
   "nbconvert_exporter": "python",
   "pygments_lexer": "ipython3",
   "version": "3.5.2"
  }
 },
 "nbformat": 4,
 "nbformat_minor": 0
}
