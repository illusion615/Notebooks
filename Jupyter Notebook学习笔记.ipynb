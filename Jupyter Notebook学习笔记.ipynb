{
 "cells": [
  {
   "cell_type": "markdown",
   "metadata": {},
   "source": [
    "# Jupyter Notebook安装笔记\n",
    "该笔记将会全部使用手工方式进行安装\n",
    "\n",
    "## 安装Python 3.5\n",
    "从此处https://www.python.org/ 下载Python 3.5并安装<br>\n",
    "注意：在安装时选择“Add Python 3.5 to PATH”可以省去后续手工添加环境变量的工作。<br>\n",
    "后续可以在系统属性界面的环境变量中添加python安装路径;python/Scripts路径到环境变量的PATH变量\n",
    "\n",
    "\n",
    "## 安装Jupyter Notebook\n",
    "pip3 install jupyter\n",
    "\n",
    "## 启动Jupyter Notebook\n",
    "jupyter notebook\n",
    "\n",
    "## 安装所需的科学计算库\n",
    "\n",
    "### Pandas\n",
    "pip3 install pandas\n",
    "\n",
    "### SciPy\n",
    "pip3 install scipy\n",
    "\n",
    "### matplotlib\n",
    "pip3 install matplotlib\n"
   ]
  },
  {
   "cell_type": "markdown",
   "metadata": {},
   "source": [
    "## 启动Jupyter Notebook\n",
    "\n",
    "缺省会以c:\\users\\...目录启动。如果希望改变启动的缺省目录，可以以如下方式：\n",
    "\n",
    "### 1. 命令行启动\n",
    "\n",
    "Jupyter Notebook --notebook-dir=\"Jupyter Notebook folder\"\n",
    "\n",
    "### 2. 修改配置参数（一劳永逸）\n",
    "\n",
    "1. 命令行输入“jupyter notebook --generate-config\"，系统会自动将缺省参数生成一份文件（jupyter_notebook_config.py），这份配置文件一般会在c:\\users\\用户名\\.jupyter\\下。\n",
    "2. 打开生成的配置文件，查找“c.NotebookApp.notebook_dir = ''”，并填入目标目录。\n",
    "3. 需要注意的是，如果文件目录中存在类似‘11. knowledge lib’这样的数字混合名称可能会出现问题。"
   ]
  }
 ],
 "metadata": {
  "kernelspec": {
   "display_name": "Python [Root]",
   "language": "python",
   "name": "Python [Root]"
  },
  "language_info": {
   "codemirror_mode": {
    "name": "ipython",
    "version": 3
   },
   "file_extension": ".py",
   "mimetype": "text/x-python",
   "name": "python",
   "nbconvert_exporter": "python",
   "pygments_lexer": "ipython3",
   "version": "3.5.2"
  }
 },
 "nbformat": 4,
 "nbformat_minor": 0
}
